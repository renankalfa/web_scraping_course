{
 "cells": [
  {
   "cell_type": "code",
   "execution_count": 1,
   "id": "b8ee2f72",
   "metadata": {},
   "outputs": [],
   "source": [
    "import re"
   ]
  },
  {
   "cell_type": "code",
   "execution_count": 2,
   "id": "07a267cd",
   "metadata": {},
   "outputs": [],
   "source": [
    "texto = '''Esta é uma aula de Python. Esta aula é sobre Expressões Regulares. \n",
    "        Espero que goste desta aula'''"
   ]
  },
  {
   "cell_type": "code",
   "execution_count": 6,
   "id": "417793be",
   "metadata": {},
   "outputs": [],
   "source": [
    "padrao = 'Esta'"
   ]
  },
  {
   "cell_type": "markdown",
   "id": "73a6ab62",
   "metadata": {},
   "source": [
    "Retorna um:\n",
    "- Match object\n",
    "- None"
   ]
  },
  {
   "cell_type": "code",
   "execution_count": 7,
   "id": "126ee79e",
   "metadata": {},
   "outputs": [
    {
     "data": {
      "text/plain": [
       "<re.Match object; span=(0, 4), match='Esta'>"
      ]
     },
     "execution_count": 7,
     "metadata": {},
     "output_type": "execute_result"
    }
   ],
   "source": [
    "resultado = re.search(padrao, texto)\n",
    "resultado"
   ]
  },
  {
   "cell_type": "markdown",
   "id": "7ae596bb",
   "metadata": {},
   "source": [
    "Para imprimir "
   ]
  }
 ],
 "metadata": {
  "kernelspec": {
   "display_name": "Python 3 (ipykernel)",
   "language": "python",
   "name": "python3"
  },
  "language_info": {
   "codemirror_mode": {
    "name": "ipython",
    "version": 3
   },
   "file_extension": ".py",
   "mimetype": "text/x-python",
   "name": "python",
   "nbconvert_exporter": "python",
   "pygments_lexer": "ipython3",
   "version": "3.9.12"
  },
  "varInspector": {
   "cols": {
    "lenName": 16,
    "lenType": 16,
    "lenVar": 40
   },
   "kernels_config": {
    "python": {
     "delete_cmd_postfix": "",
     "delete_cmd_prefix": "del ",
     "library": "var_list.py",
     "varRefreshCmd": "print(var_dic_list())"
    },
    "r": {
     "delete_cmd_postfix": ") ",
     "delete_cmd_prefix": "rm(",
     "library": "var_list.r",
     "varRefreshCmd": "cat(var_dic_list()) "
    }
   },
   "types_to_exclude": [
    "module",
    "function",
    "builtin_function_or_method",
    "instance",
    "_Feature"
   ],
   "window_display": false
  }
 },
 "nbformat": 4,
 "nbformat_minor": 5
}
